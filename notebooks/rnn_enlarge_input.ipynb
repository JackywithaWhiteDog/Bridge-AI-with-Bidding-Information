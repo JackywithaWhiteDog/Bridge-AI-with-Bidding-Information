{
 "cells": [
  {
   "cell_type": "code",
   "execution_count": 12,
   "metadata": {},
   "outputs": [],
   "source": [
    "import os\n",
    "os.environ[\"CUDA_VISIBLE_DEVICES\"] = \"7\"\n",
    "\n",
    "import sys\n",
    "sys.path.append(\"..\")\n",
    "\n",
    "import torch\n",
    "from torch.utils.data import DataLoader\n",
    "\n",
    "from bridge.rnn.datasets import BidDataset\n",
    "from bridge.rnn.models import HandsClassifier"
   ]
  },
  {
   "cell_type": "code",
   "execution_count": 13,
   "metadata": {},
   "outputs": [
    {
     "data": {
      "text/plain": [
       "<bridge.rnn.datasets.BidDataset at 0x7f78613fef10>"
      ]
     },
     "execution_count": 13,
     "metadata": {},
     "output_type": "execute_result"
    }
   ],
   "source": [
    "dataset = BidDataset(\"../data/test.txt\")\n",
    "dataset"
   ]
  },
  {
   "cell_type": "code",
   "execution_count": 14,
   "metadata": {},
   "outputs": [
    {
     "data": {
      "text/plain": [
       "<torch.utils.data.dataloader.DataLoader at 0x7f78600c3340>"
      ]
     },
     "execution_count": 14,
     "metadata": {},
     "output_type": "execute_result"
    }
   ],
   "source": [
    "loader = DataLoader(dataset, batch_size=256)\n",
    "loader"
   ]
  },
  {
   "cell_type": "code",
   "execution_count": 15,
   "metadata": {},
   "outputs": [
    {
     "data": {
      "text/plain": [
       "dict_keys(['epoch', 'global_step', 'pytorch-lightning_version', 'state_dict', 'loops', 'callbacks', 'optimizer_states', 'lr_schedulers', 'hparams_name', 'hyper_parameters'])"
      ]
     },
     "execution_count": 15,
     "metadata": {},
     "output_type": "execute_result"
    }
   ],
   "source": [
    "checkpoint = torch.load(\"../ckpt/hands/20220605_2200/hands-epoch=12-valid_card_acc=0.47-valid_loss=0.26.ckpt\")\n",
    "checkpoint.keys()"
   ]
  },
  {
   "cell_type": "code",
   "execution_count": 16,
   "metadata": {},
   "outputs": [
    {
     "data": {
      "text/plain": [
       "{'hand_hidden_size': 208,\n",
       " 'gru_hidden_size': 38,\n",
       " 'num_layers': 1,\n",
       " 'dropout': 0.0,\n",
       " 'bidirectional': True,\n",
       " 'lr': 0.002,\n",
       " 'weight_decay': 0,\n",
       " 'gru_input_size': 38}"
      ]
     },
     "execution_count": 16,
     "metadata": {},
     "output_type": "execute_result"
    }
   ],
   "source": [
    "{\n",
    "    **checkpoint[\"hyper_parameters\"],\n",
    "    \"gru_input_size\": 38,\n",
    "    \"gru_hidden_size\": 38,\n",
    "}"
   ]
  },
  {
   "cell_type": "code",
   "execution_count": 17,
   "metadata": {},
   "outputs": [
    {
     "data": {
      "text/plain": [
       "HandsClassifier(\n",
       "  (gru): GRU(38, 38, batch_first=True, bidirectional=True)\n",
       "  (fc): Sequential(\n",
       "    (0): Dropout(p=0.0, inplace=False)\n",
       "    (1): Linear(in_features=284, out_features=208, bias=True)\n",
       "  )\n",
       "  (sigmoid): Sigmoid()\n",
       "  (loss): BCELoss()\n",
       ")"
      ]
     },
     "execution_count": 17,
     "metadata": {},
     "output_type": "execute_result"
    }
   ],
   "source": [
    "model = HandsClassifier(**{\n",
    "    **checkpoint[\"hyper_parameters\"],\n",
    "    \"gru_input_size\": 38,\n",
    "    \"gru_hidden_size\": 38,\n",
    "})\n",
    "model"
   ]
  },
  {
   "cell_type": "code",
   "execution_count": 18,
   "metadata": {},
   "outputs": [],
   "source": [
    "pretrained_state_dict = checkpoint[\"state_dict\"]\n",
    "model_state_dict = model.state_dict()"
   ]
  },
  {
   "cell_type": "code",
   "execution_count": 19,
   "metadata": {},
   "outputs": [
    {
     "data": {
      "text/plain": [
       "{'gru.weight_ih_l0': torch.Size([108, 36]),\n",
       " 'gru.weight_hh_l0': torch.Size([108, 36]),\n",
       " 'gru.bias_ih_l0': torch.Size([108]),\n",
       " 'gru.bias_hh_l0': torch.Size([108]),\n",
       " 'gru.weight_ih_l0_reverse': torch.Size([108, 36]),\n",
       " 'gru.weight_hh_l0_reverse': torch.Size([108, 36]),\n",
       " 'gru.bias_ih_l0_reverse': torch.Size([108]),\n",
       " 'gru.bias_hh_l0_reverse': torch.Size([108]),\n",
       " 'fc.1.weight': torch.Size([208, 280]),\n",
       " 'fc.1.bias': torch.Size([208])}"
      ]
     },
     "execution_count": 19,
     "metadata": {},
     "output_type": "execute_result"
    }
   ],
   "source": [
    "{k: v.shape for k, v in pretrained_state_dict.items()}"
   ]
  },
  {
   "cell_type": "code",
   "execution_count": 20,
   "metadata": {},
   "outputs": [
    {
     "data": {
      "text/plain": [
       "{'gru.weight_ih_l0': torch.Size([114, 38]),\n",
       " 'gru.weight_hh_l0': torch.Size([114, 38]),\n",
       " 'gru.bias_ih_l0': torch.Size([114]),\n",
       " 'gru.bias_hh_l0': torch.Size([114]),\n",
       " 'gru.weight_ih_l0_reverse': torch.Size([114, 38]),\n",
       " 'gru.weight_hh_l0_reverse': torch.Size([114, 38]),\n",
       " 'gru.bias_ih_l0_reverse': torch.Size([114]),\n",
       " 'gru.bias_hh_l0_reverse': torch.Size([114]),\n",
       " 'fc.1.weight': torch.Size([208, 284]),\n",
       " 'fc.1.bias': torch.Size([208])}"
      ]
     },
     "execution_count": 20,
     "metadata": {},
     "output_type": "execute_result"
    }
   ],
   "source": [
    "{k: v.shape for k, v in model_state_dict.items()}"
   ]
  },
  {
   "cell_type": "code",
   "execution_count": 36,
   "metadata": {},
   "outputs": [],
   "source": [
    "for k, v in model_state_dict.items():\n",
    "    p = pretrained_state_dict[k]\n",
    "    v = torch.zeros(v.shape)\n",
    "    if k.startswith(\"fc\"):\n",
    "        if v.dim() == 2:\n",
    "            v[:p.size(0), :p.size(1)] = p\n",
    "        else: # == 1\n",
    "            v[:p.size(0)] = p\n",
    "    else: # GRU\n",
    "        if v.dim() == 2:\n",
    "            offset = 0\n",
    "            for pp in p.split(36, dim=0):\n",
    "                v[offset:offset+pp.size(0), :pp.size(1)] = pp\n",
    "                offset += 38\n",
    "        else: # == 1\n",
    "            offset = 0\n",
    "            for pp in p.split(36, dim=0):\n",
    "                v[offset:offset+pp.size(0)] = pp\n",
    "                offset += 38\n",
    "    model_state_dict[k] = v"
   ]
  },
  {
   "cell_type": "code",
   "execution_count": 37,
   "metadata": {},
   "outputs": [],
   "source": [
    "model.load_state_dict(model_state_dict)\n",
    "model = model.cuda()"
   ]
  },
  {
   "cell_type": "code",
   "execution_count": 38,
   "metadata": {},
   "outputs": [
    {
     "name": "stderr",
     "output_type": "stream",
     "text": [
      "100%|██████████| 40/40 [00:38<00:00,  1.03it/s]\n"
     ]
    }
   ],
   "source": [
    "from tqdm import tqdm\n",
    "import torch\n",
    "\n",
    "hints = []\n",
    "# results = []\n",
    "hinted_results = []\n",
    "# null_results = []\n",
    "random_results = []\n",
    "targets = []\n",
    "biddings = []\n",
    "with torch.no_grad():\n",
    "    for masked_hand, bidding, length, target in tqdm(loader):\n",
    "        masked_hand = masked_hand.cuda()\n",
    "        bidding = torch.concat([bidding, torch.zeros((bidding.size(0), bidding.size(1), 2))], dim=2)\n",
    "        biddings.append(bidding)\n",
    "        bidding = bidding.cuda()\n",
    "        output = model(masked_hand, bidding, length)\n",
    "        hints.append(masked_hand.cpu())\n",
    "        targets.append(target)\n",
    "        # results.append(model.greedy_generate(output.cpu()))\n",
    "        hinted_results.append(model.greedy_generate(output.cpu(), hints=masked_hand.cpu()))\n",
    "        # null_results.append(model.greedy_generate(torch.zeros(output.shape), hints=masked_hand.cpu()))\n",
    "        random_results.append(model.greedy_generate(torch.rand(output.shape), hints=masked_hand.cpu()))\n",
    "hints = torch.concat(hints)\n",
    "targets = torch.concat(targets)\n",
    "# results = torch.concat(results)\n",
    "hinted_results = torch.concat(hinted_results)\n",
    "# null_results = torch.concat(null_results)\n",
    "random_results = torch.concat(random_results)\n",
    "biddings = torch.concat(biddings)"
   ]
  },
  {
   "cell_type": "code",
   "execution_count": 39,
   "metadata": {},
   "outputs": [
    {
     "name": "stdout",
     "output_type": "stream",
     "text": [
      "Hinted Result: (0.6265807747840881, 0.37439998984336853, 0.0)\n",
      "Hinted Result (out of hints): (0.40310224890708923, 0.0, 0.0)\n",
      "Random Result: (0.6251288056373596, 0.37439998984336853, 0.0)\n",
      "Random Result (out of hints): (0.40078142285346985, 0.0, 0.0)\n"
     ]
    }
   ],
   "source": [
    "# print(f\"Result: {model.get_accuracy(results, targets)}\")\n",
    "print(f\"Hinted Result: {model.get_accuracy(hinted_results, targets)}\")\n",
    "print(f\"Hinted Result (out of hints): {model.get_accuracy(hinted_results, targets, hints=hints)}\")\n",
    "# print(f\"Null Result: {model.get_accuracy(null_results, targets)}\")\n",
    "# print(f\"Null Result (out of hints): {model.get_accuracy(null_results, targets, hints=hints)}\")\n",
    "print(f\"Random Result: {model.get_accuracy(random_results, targets)}\")\n",
    "print(f\"Random Result (out of hints): {model.get_accuracy(random_results, targets, hints=hints)}\")"
   ]
  },
  {
   "cell_type": "code",
   "execution_count": null,
   "metadata": {},
   "outputs": [],
   "source": []
  }
 ],
 "metadata": {
  "interpreter": {
   "hash": "8a55c493ee89def7bc5dff210f77ee5afb694e4c6e33053664a359e5b58a1484"
  },
  "kernelspec": {
   "display_name": "Python 3.8.12 64-bit ('ai')",
   "language": "python",
   "name": "python3"
  },
  "language_info": {
   "codemirror_mode": {
    "name": "ipython",
    "version": 3
   },
   "file_extension": ".py",
   "mimetype": "text/x-python",
   "name": "python",
   "nbconvert_exporter": "python",
   "pygments_lexer": "ipython3",
   "version": "3.8.12"
  },
  "orig_nbformat": 4
 },
 "nbformat": 4,
 "nbformat_minor": 2
}

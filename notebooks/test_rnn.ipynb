{
 "cells": [
  {
   "cell_type": "code",
   "execution_count": 1,
   "metadata": {},
   "outputs": [
    {
     "name": "stderr",
     "output_type": "stream",
     "text": [
      "/home/jacky/.pyenv/versions/3.8.12/envs/ai/lib/python3.8/site-packages/tqdm/auto.py:22: TqdmWarning: IProgress not found. Please update jupyter and ipywidgets. See https://ipywidgets.readthedocs.io/en/stable/user_install.html\n",
      "  from .autonotebook import tqdm as notebook_tqdm\n"
     ]
    }
   ],
   "source": [
    "import os\n",
    "os.environ[\"CUDA_VISIBLE_DEVICES\"] = \"4\"\n",
    "\n",
    "import sys\n",
    "sys.path.append(\"..\")\n",
    "\n",
    "from torch.utils.data import DataLoader\n",
    "\n",
    "from bridge.rnn.datasets import BidDataset\n",
    "from bridge.rnn.models import HandsClassifier"
   ]
  },
  {
   "cell_type": "code",
   "execution_count": 2,
   "metadata": {},
   "outputs": [
    {
     "data": {
      "text/plain": [
       "<rnn.datasets.BidDataset at 0x7f39f0642190>"
      ]
     },
     "execution_count": 2,
     "metadata": {},
     "output_type": "execute_result"
    }
   ],
   "source": [
    "dataset = BidDataset(\"../data/test.txt\")\n",
    "dataset"
   ]
  },
  {
   "cell_type": "code",
   "execution_count": 3,
   "metadata": {},
   "outputs": [
    {
     "data": {
      "text/plain": [
       "<torch.utils.data.dataloader.DataLoader at 0x7f385f70a7f0>"
      ]
     },
     "execution_count": 3,
     "metadata": {},
     "output_type": "execute_result"
    }
   ],
   "source": [
    "loader = DataLoader(dataset, batch_size=256)\n",
    "loader"
   ]
  },
  {
   "cell_type": "code",
   "execution_count": 4,
   "metadata": {},
   "outputs": [
    {
     "data": {
      "text/plain": [
       "HandsClassifier(\n",
       "  (gru): GRU(36, 36, batch_first=True, bidirectional=True)\n",
       "  (fc): Sequential(\n",
       "    (0): Dropout(p=0.0, inplace=False)\n",
       "    (1): Linear(in_features=280, out_features=208, bias=True)\n",
       "    (2): Sigmoid()\n",
       "  )\n",
       "  (loss): BCELoss()\n",
       ")"
      ]
     },
     "execution_count": 4,
     "metadata": {},
     "output_type": "execute_result"
    }
   ],
   "source": [
    "model = HandsClassifier.load_from_checkpoint(\"../ckpt/hands/20220602_0740/hands-epoch=40-valid_card_acc=0.46-valid_loss=0.28.ckpt\").cuda()\n",
    "model"
   ]
  },
  {
   "cell_type": "code",
   "execution_count": 44,
   "metadata": {},
   "outputs": [],
   "source": [
    "result = hints.clone()\n",
    "result[result < 0] = 0\n",
    "cards_selected = torch.stack(result.split(52, dim=1)).sum(dim=0) > 0"
   ]
  },
  {
   "cell_type": "code",
   "execution_count": 46,
   "metadata": {},
   "outputs": [
    {
     "data": {
      "text/plain": [
       "torch.Size([10000, 52])"
      ]
     },
     "execution_count": 46,
     "metadata": {},
     "output_type": "execute_result"
    }
   ],
   "source": [
    "for i in range(result.shape[0]):\n",
    "    "
   ]
  },
  {
   "cell_type": "code",
   "execution_count": 48,
   "metadata": {},
   "outputs": [
    {
     "name": "stderr",
     "output_type": "stream",
     "text": [
      "100%|██████████| 40/40 [01:04<00:00,  1.62s/it]\n"
     ]
    }
   ],
   "source": [
    "from tqdm import tqdm\n",
    "import torch\n",
    "\n",
    "hints = []\n",
    "# results = []\n",
    "hinted_results = []\n",
    "null_results = []\n",
    "random_results = []\n",
    "targets = []\n",
    "biddings = []\n",
    "with torch.no_grad():\n",
    "    for masked_hand, bidding, length, target in tqdm(loader):\n",
    "        masked_hand = masked_hand.cuda()\n",
    "        biddings.append(bidding)\n",
    "        bidding = bidding.cuda()\n",
    "        output = model(masked_hand, bidding, length)\n",
    "        hints.append(masked_hand.cpu())\n",
    "        targets.append(target)\n",
    "        # results.append(model.greedy_generate(output.cpu()))\n",
    "        hinted_results.append(model.greedy_generate(output.cpu(), hints=masked_hand.cpu()))\n",
    "        null_results.append(model.greedy_generate(torch.zeros(output.shape), hints=masked_hand.cpu()))\n",
    "        random_results.append(model.greedy_generate(torch.rand(output.shape), hints=masked_hand.cpu()))\n",
    "hints = torch.concat(hints)\n",
    "targets = torch.concat(targets)\n",
    "# results = torch.concat(results)\n",
    "hinted_results = torch.concat(hinted_results)\n",
    "null_results = torch.concat(null_results)\n",
    "random_results = torch.concat(random_results)\n",
    "biddings = torch.concat(biddings)"
   ]
  },
  {
   "cell_type": "code",
   "execution_count": 49,
   "metadata": {},
   "outputs": [
    {
     "name": "stdout",
     "output_type": "stream",
     "text": [
      "Hinted Result: (0.6634692549705505, 0.3763499855995178, 0.0)\n",
      "Hinted Result (out of hints): (0.46038520336151123, 0.0, 0.0)\n",
      "Null Result: (0.627126932144165, 0.3763499855995178, 0.0)\n",
      "Null Result (out of hints): (0.40211164951324463, 0.0, 0.0)\n",
      "Random Result: (0.6263403296470642, 0.3763499855995178, 0.0)\n",
      "Random Result (out of hints): (0.40085044503211975, 0.0, 0.0)\n"
     ]
    }
   ],
   "source": [
    "# print(f\"Result: {model.get_accuracy(results, targets)}\")\n",
    "print(f\"Hinted Result: {model.get_accuracy(hinted_results, targets)}\")\n",
    "print(f\"Hinted Result (out of hints): {model.get_accuracy(hinted_results, targets, hints=hints)}\")\n",
    "print(f\"Null Result: {model.get_accuracy(null_results, targets)}\")\n",
    "print(f\"Null Result (out of hints): {model.get_accuracy(null_results, targets, hints=hints)}\")\n",
    "print(f\"Random Result: {model.get_accuracy(random_results, targets)}\")\n",
    "print(f\"Random Result (out of hints): {model.get_accuracy(random_results, targets, hints=hints)}\")"
   ]
  },
  {
   "cell_type": "code",
   "execution_count": 50,
   "metadata": {},
   "outputs": [
    {
     "data": {
      "text/plain": [
       "(0.46038520336151123, 0.0)"
      ]
     },
     "execution_count": 50,
     "metadata": {},
     "output_type": "execute_result"
    }
   ],
   "source": [
    "both_selected = (hinted_results == 1) & (targets == 1)\n",
    "match = hinted_results == targets\n",
    "\n",
    "zero_hints = hints.clone()\n",
    "zero_hints[zero_hints < 0] = 0\n",
    "hand_both_selected = torch.stack(both_selected.split(52, dim=1))\n",
    "hand_hints = (torch.stack(zero_hints.split(52, dim=1)).sum(dim=2) == 13)\n",
    "card_acc = (hand_both_selected[~hand_hints].sum(dim=1).float().mean() / 13).item()\n",
    "hand_acc = torch.stack(match.split(52, dim=1)).all(dim=2)[~(torch.stack(zero_hints.split(52, dim=1)).sum(dim=2) == 13)].float().mean().item()\n",
    "card_acc, hand_acc"
   ]
  },
  {
   "cell_type": "code",
   "execution_count": 51,
   "metadata": {},
   "outputs": [],
   "source": [
    "%matplotlib inline\n",
    "\n",
    "from matplotlib import pyplot as plt\n",
    "\n",
    "plt.style.use('ggplot')"
   ]
  },
  {
   "cell_type": "code",
   "execution_count": 131,
   "metadata": {},
   "outputs": [
    {
     "data": {
      "image/png": "[encoded data removed]",
      "text/plain": [
       "<Figure size 600x400 with 1 Axes>"
      ]
     },
     "metadata": {},
     "output_type": "display_data"
    }
   ],
   "source": [
    "import numpy as np\n",
    "ranks = ['2', '3', '4', '5', '6', '7', '8', '9', '10', 'J', 'Q', 'K', 'A']\n",
    "\n",
    "width = .4\n",
    "\n",
    "card_unknown = torch.stack((torch.stack((hints == 0).split(52, dim=1)).sum(dim=0) > 0).split(13, dim=1))\n",
    "\n",
    "plt.figure(dpi=100)\n",
    "plt.bar(\n",
    "    np.arange(13),\n",
    "    ((torch.stack((torch.stack((random_results == targets).split(52, dim=1)).sum(dim=0) == 4).split(13, dim=1)) & card_unknown).sum(dim=0) / card_unknown.sum(dim=0)).nanmean(dim=0).tolist(),\n",
    "    width=width\n",
    ")\n",
    "plt.bar(\n",
    "    np.arange(13) + width,\n",
    "    ((torch.stack((torch.stack((hinted_results == targets).split(52, dim=1)).sum(dim=0) == 4).split(13, dim=1)) & card_unknown).sum(dim=0) / card_unknown.sum(dim=0)).nanmean(dim=0).tolist(),\n",
    "    width=width\n",
    ")\n",
    "\n",
    "plt.xticks(np.arange(13) + width / 2, ranks)\n",
    "plt.legend(['Baseline', 'Result'])\n",
    "plt.xlabel('Rank')\n",
    "plt.ylabel('Accuracy')\n",
    "\n",
    "plt.show()"
   ]
  },
  {
   "cell_type": "code",
   "execution_count": 53,
   "metadata": {},
   "outputs": [
    {
     "data": {
      "text/plain": [
       "(tensor([0., 1., 2., 3.]), tensor([23745, 12918,  3302,    35]))"
      ]
     },
     "execution_count": 53,
     "metadata": {},
     "output_type": "execute_result"
    }
   ],
   "source": [
    "call_cnt = torch.stack(biddings.sum(dim=1).split(7, dim=1)[:-2]).sum(dim=2).flatten()\n",
    "calls = np.arange(call_cnt.min(), call_cnt.max()+1)\n",
    "call_cnt.unique(return_counts=True)"
   ]
  },
  {
   "cell_type": "code",
   "execution_count": 54,
   "metadata": {},
   "outputs": [
    {
     "data": {
      "text/plain": [
       "tensor([[ 8, 11,  8,  ...,  7, 11, 10],\n",
       "        [ 6, 10, 10,  ...,  7, 11,  8],\n",
       "        [ 4,  9, 10,  ...,  6,  9, 10],\n",
       "        [ 8,  9, 11,  ...,  6,  8, 11]])"
      ]
     },
     "execution_count": 54,
     "metadata": {},
     "output_type": "execute_result"
    }
   ],
   "source": [
    "card_unknown.sum(dim=2)"
   ]
  },
  {
   "cell_type": "code",
   "execution_count": 55,
   "metadata": {},
   "outputs": [
    {
     "data": {
      "text/plain": [
       "tensor([[0.3750, 0.3636, 0.2500,  ..., 0.5714, 0.6364, 0.5000],\n",
       "        [0.5000, 0.5000, 0.5000,  ..., 0.5714, 0.1818, 0.2500],\n",
       "        [0.7500, 0.4444, 0.5000,  ..., 0.6667, 0.4444, 0.6000],\n",
       "        [0.8750, 0.4444, 0.1818,  ..., 0.6667, 0.1250, 0.5455]])"
      ]
     },
     "execution_count": 55,
     "metadata": {},
     "output_type": "execute_result"
    }
   ],
   "source": [
    "(torch.stack((torch.stack((hinted_results == targets).split(52, dim=1)).sum(dim=0) == 4).split(13, dim=1)) & card_unknown).sum(dim=2) / card_unknown.sum(dim=2)"
   ]
  },
  {
   "cell_type": "code",
   "execution_count": 133,
   "metadata": {},
   "outputs": [
    {
     "data": {
      "text/plain": [
       "[[0.41974666714668274,\n",
       "  0.41880446672439575,\n",
       "  0.41338080167770386,\n",
       "  0.37134405970573425],\n",
       " [0.46028974652290344,\n",
       "  0.4968462884426117,\n",
       "  0.5023360848426819,\n",
       "  0.48870545625686646],\n",
       " [0.4183696210384369,\n",
       "  0.41642773151397705,\n",
       "  0.41693055629730225,\n",
       "  0.4282931685447693]]"
      ]
     },
     "execution_count": 133,
     "metadata": {},
     "output_type": "execute_result"
    }
   ],
   "source": [
    "suit_matches = [\n",
    "    ((torch.stack((torch.stack((null_results == targets).split(52, dim=1)).sum(dim=0) == 4).split(13, dim=1)) & card_unknown).sum(dim=2) / card_unknown.sum(dim=2)).flatten(),\n",
    "    ((torch.stack((torch.stack((hinted_results == targets).split(52, dim=1)).sum(dim=0) == 4).split(13, dim=1)) & card_unknown).sum(dim=2) / card_unknown.sum(dim=2)).flatten(),\n",
    "    ((torch.stack((torch.stack((random_results == targets).split(52, dim=1)).sum(dim=0) == 4).split(13, dim=1)) & card_unknown).sum(dim=2) / card_unknown.sum(dim=2)).flatten(),\n",
    "]\n",
    "suit_acc = [[] for _ in range(len(suit_matches))]\n",
    "for i, suit_match in enumerate(suit_matches):\n",
    "    for call in calls:\n",
    "        suit_acc[i].append(suit_match[call_cnt==call].nanmean().item())\n",
    "suit_acc"
   ]
  },
  {
   "cell_type": "code",
   "execution_count": 136,
   "metadata": {},
   "outputs": [
    {
     "data": {
      "image/png": "[encoded data removed]",
      "text/plain": [
       "<Figure size 600x400 with 1 Axes>"
      ]
     },
     "metadata": {},
     "output_type": "display_data"
    }
   ],
   "source": [
    "import numpy as np\n",
    "\n",
    "width = .4\n",
    "\n",
    "plt.figure(dpi=100)\n",
    "plt.bar(np.arange(4), suit_acc[2], width=width)\n",
    "plt.bar(np.arange(4) + width, suit_acc[1], width=width)\n",
    "\n",
    "plt.xticks(np.arange(4) + width / 2, np.arange(4)+1)\n",
    "plt.legend(['Baseline', 'Result'], loc='lower right')\n",
    "plt.xlabel('Call Cnt of Suit')\n",
    "plt.ylabel('Accuracy')\n",
    "\n",
    "plt.show()"
   ]
  },
  {
   "cell_type": "code",
   "execution_count": 77,
   "metadata": {},
   "outputs": [
    {
     "data": {
      "text/plain": [
       "tensor(2.4846)"
      ]
     },
     "execution_count": 77,
     "metadata": {},
     "output_type": "execute_result"
    }
   ],
   "source": [
    "((torch.stack(torch.stack(hinted_results.split(52, dim=1), dim=1).split(13, dim=2), dim=2).sum(dim=3) \\\n",
    "    - torch.stack(torch.stack(targets.split(52, dim=1), dim=1).split(13, dim=2), dim=2).sum(dim=3)) ** 2).mean()"
   ]
  },
  {
   "cell_type": "code",
   "execution_count": 127,
   "metadata": {},
   "outputs": [],
   "source": [
    "player_suit_cnt = torch.stack(torch.stack(targets.split(52, dim=1), dim=1).split(13, dim=2), dim=2).sum(dim=3)\n",
    "unknown_player_suit = torch.stack(torch.stack((hints == 0).split(52, dim=1), dim=1).any(dim=2).repeat(1, 4).split(4, dim=1), dim=2)\n",
    "\n",
    "suit_cnt_mse = [[] for i in range(3)]\n",
    "for i, r in enumerate([hinted_results, random_results, null_results]):\n",
    "    pred_player_suit_cnt = torch.stack(torch.stack(r.split(52, dim=1), dim=1).split(13, dim=2), dim=2).sum(dim=3)\n",
    "    for cnt in range(0, 13+1):\n",
    "        suit_cnt_mse[i].append(((player_suit_cnt[player_suit_cnt==cnt] - pred_player_suit_cnt[player_suit_cnt==cnt])[unknown_player_suit[player_suit_cnt==cnt]] ** 2).nanmean().item())"
   ]
  },
  {
   "cell_type": "code",
   "execution_count": 157,
   "metadata": {},
   "outputs": [
    {
     "data": {
      "image/png": "[encoded data removed]",
      "text/plain": [
       "<Figure size 600x400 with 1 Axes>"
      ]
     },
     "metadata": {},
     "output_type": "display_data"
    }
   ],
   "source": [
    "width = .4\n",
    "max_cnt = 10\n",
    "plt.figure(dpi=100)\n",
    "for i, mse in enumerate(suit_cnt_mse[:-1]):\n",
    "    plt.bar(np.arange(max_cnt) + width*i, mse[:max_cnt], width=width)\n",
    "plt.xticks(np.arange(max_cnt) + width / 2, np.arange(max_cnt))\n",
    "plt.legend(['Baseline', 'Result'])\n",
    "plt.xlabel('# of Cards in Suits (ground truth)')\n",
    "plt.ylabel('MSE (on # of cards in suits)')\n",
    "plt.show()"
   ]
  },
  {
   "cell_type": "code",
   "execution_count": null,
   "metadata": {},
   "outputs": [],
   "source": []
  }
 ],
 "metadata": {
  "interpreter": {
   "hash": "8a55c493ee89def7bc5dff210f77ee5afb694e4c6e33053664a359e5b58a1484"
  },
  "kernelspec": {
   "display_name": "Python 3.8.12 64-bit ('ai')",
   "language": "python",
   "name": "python3"
  },
  "language_info": {
   "codemirror_mode": {
    "name": "ipython",
    "version": 3
   },
   "file_extension": ".py",
   "mimetype": "text/x-python",
   "name": "python",
   "nbconvert_exporter": "python",
   "pygments_lexer": "ipython3",
   "version": "3.8.12"
  },
  "orig_nbformat": 4
 },
 "nbformat": 4,
 "nbformat_minor": 2
}

{
 "cells": [
  {
   "cell_type": "code",
   "execution_count": null,
   "metadata": {},
   "outputs": [],
   "source": [
    "import json\n",
    "\n",
    "import requests\n",
    "from bs4 import BeautifulSoup\n",
    "from tqdm import tqdm"
   ]
  },
  {
   "cell_type": "code",
   "execution_count": null,
   "metadata": {},
   "outputs": [],
   "source": [
    "pbn_list = []\n",
    "success_cnt = 0\n",
    "bar = tqdm(range(231325, 231325-1000, -1))\n",
    "for step, i in enumerate(bar):\n",
    "    url = f\"http://www.bridgetoernooi.com/index.php/home/pbn2deal/{i}\"\n",
    "    res = requests.get(url)\n",
    "    soup = BeautifulSoup(res.content)\n",
    "    div = soup.find(\"textarea\")\n",
    "    if div is not None:\n",
    "        pbn_list.append(div.text)\n",
    "        success_cnt += 1\n",
    "    bar.set_description(f\"[Step {step+1}/{len(bar)}] [Request {i}] Success Count: {success_cnt}\")"
   ]
  },
  {
   "cell_type": "code",
   "execution_count": null,
   "metadata": {},
   "outputs": [],
   "source": [
    "bar = tqdm(range(i-1, i-1-(1000-success_cnt), -1))\n",
    "for step, i in enumerate(bar):\n",
    "    url = f\"http://www.bridgetoernooi.com/index.php/home/pbn2deal/{i}\"\n",
    "    res = requests.get(url)\n",
    "    soup = BeautifulSoup(res.content)\n",
    "    div = soup.find(\"textarea\")\n",
    "    if div is not None:\n",
    "        pbn_list.append(div.text)\n",
    "        success_cnt += 1\n",
    "    bar.set_description(f\"[Step {step+1}/{len(bar)}] [Request {i}] Success Count: {success_cnt}\")"
   ]
  },
  {
   "cell_type": "code",
   "execution_count": null,
   "metadata": {},
   "outputs": [],
   "source": [
    "bar = tqdm(range(i-1, i-1-(1000-success_cnt), -1))\n",
    "for step, i in enumerate(bar):\n",
    "    url = f\"http://www.bridgetoernooi.com/index.php/home/pbn2deal/{i}\"\n",
    "    res = requests.get(url)\n",
    "    soup = BeautifulSoup(res.content)\n",
    "    div = soup.find(\"textarea\")\n",
    "    if div is not None:\n",
    "        pbn_list.append(div.text)\n",
    "        success_cnt += 1\n",
    "    bar.set_description(f\"[Step {step+1}/{len(bar)}] [Request {i}] Success Count: {success_cnt}\")"
   ]
  },
  {
   "cell_type": "code",
   "execution_count": null,
   "metadata": {},
   "outputs": [],
   "source": [
    "with open(\"../matches/raw_pbn.json\", \"w\") as f:\n",
    "    json.dump(pbn_list, f, indent=4)"
   ]
  }
 ],
 "metadata": {
  "language_info": {
   "name": "python"
  },
  "orig_nbformat": 4
 },
 "nbformat": 4,
 "nbformat_minor": 2
}

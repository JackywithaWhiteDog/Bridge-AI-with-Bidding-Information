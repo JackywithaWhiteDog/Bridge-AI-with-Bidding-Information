{
 "cells": [
  {
   "cell_type": "code",
   "execution_count": 16,
   "metadata": {},
   "outputs": [],
   "source": [
    "import json"
   ]
  },
  {
   "cell_type": "code",
   "execution_count": 17,
   "metadata": {},
   "outputs": [
    {
     "data": {
      "text/plain": [
       "1000"
      ]
     },
     "execution_count": 17,
     "metadata": {},
     "output_type": "execute_result"
    }
   ],
   "source": [
    "with open(\"../matches/train.json\", \"r\") as f:\n",
    "    data = json.load(f)\n",
    "len(data)"
   ]
  },
  {
   "cell_type": "code",
   "execution_count": 18,
   "metadata": {},
   "outputs": [],
   "source": [
    "SIDE = [\"N\", \"E\", \"S\", \"W\"]\n",
    "\n",
    "SUIT = {\n",
    "    \"S\": '♠',\n",
    "    \"H\": '♥',\n",
    "    \"D\": '♦',\n",
    "    \"C\": '♣',\n",
    "    \"NT\": 'NT',\n",
    "    \"N\": \"NT\",\n",
    "    \"Pass\": \"pass\"\n",
    "}"
   ]
  },
  {
   "cell_type": "code",
   "execution_count": 19,
   "metadata": {},
   "outputs": [
    {
     "data": {
      "text/plain": [
       "[]"
      ]
     },
     "execution_count": 19,
     "metadata": {},
     "output_type": "execute_result"
    }
   ],
   "source": [
    "[d for d in data if len(d[\"bidding\"].split(\" \")) < 4]"
   ]
  },
  {
   "cell_type": "code",
   "execution_count": 20,
   "metadata": {},
   "outputs": [
    {
     "data": {
      "text/plain": [
       "1000"
      ]
     },
     "execution_count": 20,
     "metadata": {},
     "output_type": "execute_result"
    }
   ],
   "source": [
    "def parse_bid(b):\n",
    "    if b in SUIT:\n",
    "        return SUIT[b]\n",
    "    rank = b[:1]\n",
    "    suit = b[1:]\n",
    "    return f\"{SUIT[suit]}_{rank}\"\n",
    "\n",
    "text_data = []\n",
    "for d in data:\n",
    "    first = d[\"deal\"][0]\n",
    "    first_idx = SIDE.index(first)\n",
    "    deal = d[\"deal\"][2:].split(\" \")\n",
    "    deal = deal[((4-first_idx) % 4):] + deal[:((4-first_idx) % 4)]\n",
    "    bidding = d[\"bidding\"].replace(\"XX\", \"Pass\").replace(\"X\", \"Pass\").split(\" \")\n",
    "    # bidding = d[\"bidding\"].split(\" \")\n",
    "    # current_bid = \"Pass\"\n",
    "    # for i, b in enumerate(bidding):\n",
    "    #     if b in [\"X\", \"XX\"]:\n",
    "    #         bidding[i] = current_bid\n",
    "    #     elif b != \"Pass\":\n",
    "    #         current_bid = b\n",
    "    bidding = [parse_bid(b) for b in bidding if b]\n",
    "    text = f'{\"$\".join(deal)} || {d[\"declarer_starter\"]}:{\".\".join(bidding)}'\n",
    "    text_data.append(text)\n",
    "len(text_data)"
   ]
  },
  {
   "cell_type": "code",
   "execution_count": 21,
   "metadata": {},
   "outputs": [],
   "source": [
    "with open(\"../data/human/test.txt\", \"w\") as f:\n",
    "    f.write(\"\\n\".join(text_data))"
   ]
  },
  {
   "cell_type": "code",
   "execution_count": null,
   "metadata": {},
   "outputs": [],
   "source": []
  }
 ],
 "metadata": {
  "interpreter": {
   "hash": "8a55c493ee89def7bc5dff210f77ee5afb694e4c6e33053664a359e5b58a1484"
  },
  "kernelspec": {
   "display_name": "Python 3.8.12 64-bit ('ai')",
   "language": "python",
   "name": "python3"
  },
  "language_info": {
   "codemirror_mode": {
    "name": "ipython",
    "version": 3
   },
   "file_extension": ".py",
   "mimetype": "text/x-python",
   "name": "python",
   "nbconvert_exporter": "python",
   "pygments_lexer": "ipython3",
   "version": "3.8.12"
  },
  "orig_nbformat": 4
 },
 "nbformat": 4,
 "nbformat_minor": 2
}

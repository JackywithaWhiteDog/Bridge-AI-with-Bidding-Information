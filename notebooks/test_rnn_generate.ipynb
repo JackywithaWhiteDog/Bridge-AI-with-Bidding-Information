{
 "cells": [
  {
   "cell_type": "code",
   "execution_count": 1,
   "metadata": {},
   "outputs": [
    {
     "name": "stderr",
     "output_type": "stream",
     "text": [
      "/home/jacky/.pyenv/versions/3.8.12/envs/ai/lib/python3.8/site-packages/tqdm/auto.py:22: TqdmWarning: IProgress not found. Please update jupyter and ipywidgets. See https://ipywidgets.readthedocs.io/en/stable/user_install.html\n",
      "  from .autonotebook import tqdm as notebook_tqdm\n"
     ]
    }
   ],
   "source": [
    "import os\n",
    "os.environ[\"CUDA_VISIBLE_DEVICES\"] = \"7\"\n",
    "\n",
    "import sys\n",
    "sys.path.append(\"..\")\n",
    "\n",
    "from torch.utils.data import DataLoader\n",
    "\n",
    "from bridge.rnn.datasets import BidDataset\n",
    "from bridge.rnn.models import HandsClassifier"
   ]
  },
  {
   "cell_type": "code",
   "execution_count": 2,
   "metadata": {},
   "outputs": [
    {
     "data": {
      "text/plain": [
       "<bridge.rnn.datasets.BidDataset at 0x7f55103f1c70>"
      ]
     },
     "execution_count": 2,
     "metadata": {},
     "output_type": "execute_result"
    }
   ],
   "source": [
    "dataset = BidDataset(\"../data/test.txt\")\n",
    "dataset"
   ]
  },
  {
   "cell_type": "code",
   "execution_count": 5,
   "metadata": {},
   "outputs": [
    {
     "data": {
      "text/plain": [
       "<torch.utils.data.dataloader.DataLoader at 0x7f537eb5e1c0>"
      ]
     },
     "execution_count": 5,
     "metadata": {},
     "output_type": "execute_result"
    }
   ],
   "source": [
    "loader = DataLoader(dataset, batch_size=16)\n",
    "loader"
   ]
  },
  {
   "cell_type": "code",
   "execution_count": 6,
   "metadata": {},
   "outputs": [
    {
     "data": {
      "text/plain": [
       "HandsClassifier(\n",
       "  (gru): GRU(36, 36, batch_first=True, bidirectional=True)\n",
       "  (fc): Sequential(\n",
       "    (0): Dropout(p=0.0, inplace=False)\n",
       "    (1): Linear(in_features=280, out_features=208, bias=True)\n",
       "    (2): Sigmoid()\n",
       "  )\n",
       "  (loss): BCELoss()\n",
       ")"
      ]
     },
     "execution_count": 6,
     "metadata": {},
     "output_type": "execute_result"
    }
   ],
   "source": [
    "model = HandsClassifier.load_from_checkpoint(\"../ckpt/hands/20220602_0740/hands-epoch=40-valid_card_acc=0.46-valid_loss=0.28.ckpt\").cuda()\n",
    "model"
   ]
  },
  {
   "cell_type": "code",
   "execution_count": 106,
   "metadata": {},
   "outputs": [],
   "source": [
    "import torch\n",
    "\n",
    "with torch.no_grad():\n",
    "    for masked_hand, bidding, length, target in loader:\n",
    "        masked_hand = masked_hand.cuda()\n",
    "        bidding = bidding.cuda()\n",
    "        output = model(masked_hand, bidding, length)\n",
    "        hinted_result = model.greedy_generate(output.cpu(), hints=masked_hand.cpu())\n",
    "        null_result = model.greedy_generate(torch.zeros(output.shape), hints=masked_hand.cpu())\n",
    "        random_result = model.greedy_generate(torch.rand(output.shape), hints=masked_hand.cpu())\n",
    "        break"
   ]
  },
  {
   "cell_type": "code",
   "execution_count": 109,
   "metadata": {},
   "outputs": [],
   "source": [
    "output = output.cpu()\n",
    "hints = masked_hand.cpu()"
   ]
  },
  {
   "cell_type": "code",
   "execution_count": 143,
   "metadata": {},
   "outputs": [],
   "source": [
    "n = 10\n",
    "\n",
    "if hints is None:\n",
    "    result = torch.zeros((output.size(0), n, output.size(1)))\n",
    "else:\n",
    "    result = hints.clone()\n",
    "    result[result < 0] = 0\n",
    "    hand_cnts = torch.stack(result.split(52, dim=1)).sum(dim=2)\n",
    "    total_cnts = result.sum(dim=1)\n",
    "    cards_selected = torch.stack(result.split(52, dim=1)).sum(dim=0) > 0\n",
    "    # Reduce the probability of selected cards and players with full hands\n",
    "    output = output - cards_selected.float().repeat(1, 4) - (hand_cnts.T == 13).float().repeat_interleave(52, dim=1)\n",
    "    result = result.unsqueeze(1).repeat(1, n, 1)"
   ]
  },
  {
   "cell_type": "code",
   "execution_count": 161,
   "metadata": {},
   "outputs": [],
   "source": [
    "import numpy as np\n",
    "from torch.nn.functional import softmax\n",
    "\n",
    "t = 1.0\n",
    "\n",
    "for i, o in enumerate(output):\n",
    "    for j in range(n):\n",
    "        hand_cnt = hand_cnts[:, i].clone()\n",
    "        total_cnt = total_cnts[i].clone()\n",
    "        card_selected = cards_selected[i, :].clone()\n",
    "        current_o = o.clone()\n",
    "        while total_cnt < 52:\n",
    "            probs = softmax(current_o / t, dim=0).numpy()\n",
    "            probs /= probs.sum()\n",
    "            indices = torch.tensor(np.random.choice(len(probs), size=52, replace=False, p=probs))\n",
    "            side_indices = torch.div(indices, 52, rounding_mode='floor')\n",
    "            card_indices = indices % 52\n",
    "            for idx, side, card in zip(indices, side_indices, card_indices):\n",
    "                if (hand_cnt[side] == 13) or card_selected[card]:\n",
    "                    continue\n",
    "                result[i, j, idx] = 1\n",
    "                hand_cnt[side] += 1\n",
    "                total_cnt += 1\n",
    "                card_selected[card] = True\n",
    "                # Reduce the probability of selected cards\n",
    "                current_o[torch.arange(4) * 52 + card] -= 1\n",
    "                if hand_cnt[side] == 13:\n",
    "                    # Reduce the probability of players with full hands\n",
    "                    current_o[side*52:(side+1)*52] -= 1"
   ]
  },
  {
   "cell_type": "code",
   "execution_count": 149,
   "metadata": {},
   "outputs": [
    {
     "data": {
      "text/plain": [
       "tensor(True)"
      ]
     },
     "execution_count": 149,
     "metadata": {},
     "output_type": "execute_result"
    }
   ],
   "source": [
    "(torch.stack(result.split(52, dim=2), dim=2).sum(dim=2) == 1).all()"
   ]
  },
  {
   "cell_type": "code",
   "execution_count": 157,
   "metadata": {},
   "outputs": [
    {
     "data": {
      "text/plain": [
       "tensor([ 31,  83, 135, 187])"
      ]
     },
     "execution_count": 157,
     "metadata": {},
     "output_type": "execute_result"
    }
   ],
   "source": [
    "torch.arange(4) * 52 + card"
   ]
  },
  {
   "cell_type": "code",
   "execution_count": 159,
   "metadata": {},
   "outputs": [
    {
     "data": {
      "text/plain": [
       "tensor(83)"
      ]
     },
     "execution_count": 159,
     "metadata": {},
     "output_type": "execute_result"
    }
   ],
   "source": [
    "idx"
   ]
  },
  {
   "cell_type": "code",
   "execution_count": null,
   "metadata": {},
   "outputs": [],
   "source": []
  }
 ],
 "metadata": {
  "interpreter": {
   "hash": "8a55c493ee89def7bc5dff210f77ee5afb694e4c6e33053664a359e5b58a1484"
  },
  "kernelspec": {
   "display_name": "Python 3.8.12 64-bit ('ai')",
   "language": "python",
   "name": "python3"
  },
  "language_info": {
   "codemirror_mode": {
    "name": "ipython",
    "version": 3
   },
   "file_extension": ".py",
   "mimetype": "text/x-python",
   "name": "python",
   "nbconvert_exporter": "python",
   "pygments_lexer": "ipython3",
   "version": "3.8.12"
  },
  "orig_nbformat": 4
 },
 "nbformat": 4,
 "nbformat_minor": 2
}

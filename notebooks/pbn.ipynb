{
 "cells": [
  {
   "cell_type": "code",
   "execution_count": null,
   "metadata": {},
   "outputs": [],
   "source": [
    "import json\n",
    "import re\n",
    "\n",
    "from tqdm import tqdm\n",
    "import pandas as pd"
   ]
  },
  {
   "cell_type": "code",
   "execution_count": null,
   "metadata": {},
   "outputs": [],
   "source": [
    "with open(\"../matches/raw_pbn.json\", \"r\") as f:\n",
    "    pbn_list = json.load(f)"
   ]
  },
  {
   "cell_type": "code",
   "execution_count": null,
   "metadata": {},
   "outputs": [],
   "source": [
    "print(pbn_list[124])"
   ]
  },
  {
   "cell_type": "code",
   "execution_count": null,
   "metadata": {},
   "outputs": [],
   "source": [
    "def extract(s):\n",
    "    return s[s.find('\"')+1:s.rfind('\"')]\n",
    "\n",
    "features = {\n",
    "    \"[DealId\": \"id\",\n",
    "    \"[Event\": \"event\",\n",
    "    \"[Site\": \"site\",\n",
    "    \"[Date\": \"date\",\n",
    "    \"[Board\": \"board\",\n",
    "    \"[Hometeam\": \"home_team\",\n",
    "    \"[Visitteam\": \"visit_team\",\n",
    "    \"[Deal\": \"deal\",\n",
    "    \"[Auction\": \"declarer_starter\",\n",
    "    \"[Declarer\": \"declarer\",\n",
    "    \"[Contract\": \"contract\",\n",
    "}\n",
    "\n",
    "result = []\n",
    "for pbn in tqdm(pbn_list):\n",
    "    data = {}\n",
    "    lines = pbn.split(\"\\n\")\n",
    "    for i, line in enumerate(lines):\n",
    "        for prefix, col in features.items():\n",
    "            if line.startswith(prefix):\n",
    "                data[col] = extract(line)\n",
    "        if line.startswith(\"[Auction\"):\n",
    "            bidding = []\n",
    "            pivot = i+1\n",
    "            while (pivot < len(lines)) and (not lines[pivot].startswith(\"[\")):\n",
    "                bidding.append(lines[pivot])\n",
    "                pivot += 1\n",
    "            data[\"bidding\"] = ' '.join(bidding)\n",
    "    result.append(data)"
   ]
  },
  {
   "cell_type": "code",
   "execution_count": null,
   "metadata": {},
   "outputs": [],
   "source": [
    "len(result)"
   ]
  },
  {
   "cell_type": "code",
   "execution_count": null,
   "metadata": {},
   "outputs": [],
   "source": [
    "# X means double\n",
    "# XX means redouble\n",
    "# AP means all pass\n",
    "# =<note_index>= means all pass\n",
    "print(\"Double:\", sum(\"X\" in data[\"bidding\"] for data in result))\n",
    "print(\"Redouble:\", sum(\"XX\" in data[\"bidding\"] for data in result))\n",
    "print(\"All pass:\", sum(\"AP\" in data[\"bidding\"] for data in result))\n",
    "print(\"Note:\", sum(\"=\" in data[\"bidding\"] for data in result))"
   ]
  },
  {
   "cell_type": "code",
   "execution_count": null,
   "metadata": {},
   "outputs": [],
   "source": [
    "# Remove notes\n",
    "for data in result:\n",
    "    data[\"bidding\"] = re.sub(r'=.+=', '', data[\"bidding\"]).replace('  ', '')\n",
    "print(\"Note:\", sum(\"=\" in data[\"bidding\"] for data in result))"
   ]
  },
  {
   "cell_type": "code",
   "execution_count": null,
   "metadata": {},
   "outputs": [],
   "source": [
    "# Replace AP with 3 Passes\n",
    "for data in result:\n",
    "    data[\"bidding\"] = data[\"bidding\"].replace(\"AP\", \"Pass Pass Pass\")\n",
    "print(\"All pass:\", sum(\"AP\" in data[\"bidding\"] for data in result))"
   ]
  },
  {
   "cell_type": "code",
   "execution_count": null,
   "metadata": {},
   "outputs": [],
   "source": [
    "# Replace X, XX with Pass\n",
    "for data in result:\n",
    "    data[\"bidding\"] = data[\"bidding\"].replace(\"XX\", \"Pass\").replace(\"X\", \"Pass\")\n",
    "print(\"Double:\", sum(\"X\" in data[\"bidding\"] for data in result))\n",
    "print(\"Redouble:\", sum(\"XX\" in data[\"bidding\"] for data in result))"
   ]
  },
  {
   "cell_type": "code",
   "execution_count": null,
   "metadata": {},
   "outputs": [],
   "source": [
    "pd.DataFrame(result).describe()"
   ]
  },
  {
   "cell_type": "code",
   "execution_count": null,
   "metadata": {},
   "outputs": [],
   "source": [
    "with open(\"../matches/bidding.json\", \"w\") as f:\n",
    "    json.dump(result, f, indent=4)"
   ]
  },
  {
   "cell_type": "code",
   "execution_count": null,
   "metadata": {},
   "outputs": [],
   "source": []
  }
 ],
 "metadata": {
  "language_info": {
   "name": "python"
  },
  "orig_nbformat": 4
 },
 "nbformat": 4,
 "nbformat_minor": 2
}
